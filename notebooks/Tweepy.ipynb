{
 "cells": [
  {
   "cell_type": "code",
   "execution_count": 1,
   "metadata": {
    "collapsed": true
   },
   "outputs": [],
   "source": [
    "import tweepy"
   ]
  },
  {
   "cell_type": "code",
   "execution_count": 2,
   "metadata": {
    "collapsed": true
   },
   "outputs": [],
   "source": [
    "import os\n",
    "consumer_key=os.environ['TW_CONS_KEY']\n",
    "consumer_secret=os.environ['TW_CONS_SEC']\n",
    "access_token=os.environ['TOKEN']\n",
    "access_token_secret=os.environ['TOKEN_SEC']"
   ]
  },
  {
   "cell_type": "code",
   "execution_count": 3,
   "metadata": {
    "collapsed": true
   },
   "outputs": [],
   "source": [
    "auth = tweepy.OAuthHandler(consumer_key, consumer_secret)\n",
    "auth.set_access_token(access_token, access_token_secret)\n",
    "\n",
    "api = tweepy.API(auth)"
   ]
  },
  {
   "cell_type": "code",
   "execution_count": 10,
   "metadata": {},
   "outputs": [
    {
     "data": {
      "text/plain": [
       "User(follow_request_sent=False, has_extended_profile=False, profile_use_background_image=True, _json={u'follow_request_sent': False, u'has_extended_profile': False, u'profile_use_background_image': True, u'profile_text_color': u'333333', u'default_profile_image': False, u'suspended': False, u'id': 115337717, u'profile_background_image_url_https': u'https://abs.twimg.com/images/themes/theme1/bg.png', u'verified': False, u'translator_type': u'none', u'profile_location': None, u'profile_image_url_https': u'https://pbs.twimg.com/profile_images/812908695684141056/XpXkmzvk_normal.jpg', u'profile_sidebar_fill_color': u'DDEEF6', u'entities': {u'url': {u'urls': [{u'url': u'https://t.co/HB3nRGBv05', u'indices': [0, 23], u'expanded_url': u'http://supercoderz.in', u'display_url': u'supercoderz.in'}]}, u'description': {u'urls': []}}, u'followers_count': 140, u'profile_sidebar_border_color': u'C0DEED', u'id_str': u'115337717', u'profile_background_color': u'C0DEED', u'needs_phone_verification': False, u'listed_count': 9, u'status': {u'contributors': None, u'truncated': False, u'text': u'Journey from morse code to unicode #pyconjp #pyconjp_201', u'is_quote_status': False, u'in_reply_to_status_id': None, u'id': 906045202674008064, u'favorite_count': 0, u'source': u'<a href=\"https://about.twitter.com/products/tweetdeck\" rel=\"nofollow\">TweetDeck</a>', u'retweeted': False, u'coordinates': None, u'entities': {u'symbols': [], u'user_mentions': [], u'hashtags': [{u'indices': [35, 43], u'text': u'pyconjp'}, {u'indices': [44, 56], u'text': u'pyconjp_201'}], u'urls': []}, u'in_reply_to_screen_name': None, u'in_reply_to_user_id': None, u'retweet_count': 0, u'id_str': u'906045202674008064', u'favorited': False, u'geo': None, u'in_reply_to_user_id_str': None, u'lang': u'en', u'created_at': u'Fri Sep 08 06:43:04 +0000 2017', u'in_reply_to_status_id_str': None, u'place': None}, u'is_translation_enabled': False, u'utc_offset': 19800, u'statuses_count': 707, u'description': u'human; practical; modern; think-first-talk-later; logical; developer; engineer; photographer', u'friends_count': 97, u'location': u'singapore', u'profile_link_color': u'1DA1F2', u'profile_image_url': u'http://pbs.twimg.com/profile_images/812908695684141056/XpXkmzvk_normal.jpg', u'following': False, u'geo_enabled': True, u'profile_background_image_url': u'http://abs.twimg.com/images/themes/theme1/bg.png', u'name': u'hari allamraju', u'lang': u'en', u'profile_background_tile': False, u'favourites_count': 127, u'screen_name': u'supercoderhari', u'notifications': False, u'url': u'https://t.co/HB3nRGBv05', u'created_at': u'Thu Feb 18 10:25:34 +0000 2010', u'contributors_enabled': False, u'time_zone': u'New Delhi', u'protected': False, u'default_profile': True, u'is_translator': False}, time_zone=u'New Delhi', suspended=False, id=115337717, description=u'human; practical; modern; think-first-talk-later; logical; developer; engineer; photographer', _api=<tweepy.api.API object at 0x10ab5ac90>, verified=False, profile_location=None, profile_image_url_https=u'https://pbs.twimg.com/profile_images/812908695684141056/XpXkmzvk_normal.jpg', profile_sidebar_fill_color=u'DDEEF6', is_translator=False, geo_enabled=True, entities={u'url': {u'urls': [{u'url': u'https://t.co/HB3nRGBv05', u'indices': [0, 23], u'expanded_url': u'http://supercoderz.in', u'display_url': u'supercoderz.in'}]}, u'description': {u'urls': []}}, followers_count=140, protected=False, id_str=u'115337717', default_profile_image=False, needs_phone_verification=False, listed_count=9, status=Status(contributors=None, truncated=False, text=u'Journey from morse code to unicode #pyconjp #pyconjp_201', is_quote_status=False, in_reply_to_status_id=None, id=906045202674008064, favorite_count=0, _api=<tweepy.api.API object at 0x10ab5ac90>, source=u'TweetDeck', _json={u'contributors': None, u'truncated': False, u'text': u'Journey from morse code to unicode #pyconjp #pyconjp_201', u'is_quote_status': False, u'in_reply_to_status_id': None, u'id': 906045202674008064, u'favorite_count': 0, u'source': u'<a href=\"https://about.twitter.com/products/tweetdeck\" rel=\"nofollow\">TweetDeck</a>', u'retweeted': False, u'coordinates': None, u'entities': {u'symbols': [], u'user_mentions': [], u'hashtags': [{u'indices': [35, 43], u'text': u'pyconjp'}, {u'indices': [44, 56], u'text': u'pyconjp_201'}], u'urls': []}, u'in_reply_to_screen_name': None, u'in_reply_to_user_id': None, u'retweet_count': 0, u'id_str': u'906045202674008064', u'favorited': False, u'geo': None, u'in_reply_to_user_id_str': None, u'lang': u'en', u'created_at': u'Fri Sep 08 06:43:04 +0000 2017', u'in_reply_to_status_id_str': None, u'place': None}, coordinates=None, entities={u'symbols': [], u'user_mentions': [], u'hashtags': [{u'indices': [35, 43], u'text': u'pyconjp'}, {u'indices': [44, 56], u'text': u'pyconjp_201'}], u'urls': []}, in_reply_to_screen_name=None, id_str=u'906045202674008064', retweet_count=0, in_reply_to_user_id=None, favorited=False, source_url=u'https://about.twitter.com/products/tweetdeck', geo=None, in_reply_to_user_id_str=None, lang=u'en', created_at=datetime.datetime(2017, 9, 8, 6, 43, 4), in_reply_to_status_id_str=None, place=None, retweeted=False), lang=u'en', utc_offset=19800, statuses_count=707, profile_background_color=u'C0DEED', friends_count=97, profile_link_color=u'1DA1F2', profile_image_url=u'http://pbs.twimg.com/profile_images/812908695684141056/XpXkmzvk_normal.jpg', notifications=False, default_profile=True, favourites_count=127, profile_background_image_url_https=u'https://abs.twimg.com/images/themes/theme1/bg.png', profile_background_image_url=u'http://abs.twimg.com/images/themes/theme1/bg.png', screen_name=u'supercoderhari', is_translation_enabled=False, profile_background_tile=False, profile_text_color=u'333333', name=u'hari allamraju', url=u'https://t.co/HB3nRGBv05', created_at=datetime.datetime(2010, 2, 18, 10, 25, 34), contributors_enabled=False, location=u'singapore', profile_sidebar_border_color=u'C0DEED', translator_type=u'none', following=False)"
      ]
     },
     "execution_count": 10,
     "metadata": {},
     "output_type": "execute_result"
    }
   ],
   "source": [
    "api.get_user('supercoderhari')"
   ]
  }
 ],
 "metadata": {
  "kernelspec": {
   "display_name": "Python 2",
   "language": "python",
   "name": "python2"
  },
  "language_info": {
   "codemirror_mode": {
    "name": "ipython",
    "version": 2
   },
   "file_extension": ".py",
   "mimetype": "text/x-python",
   "name": "python",
   "nbconvert_exporter": "python",
   "pygments_lexer": "ipython2",
   "version": "2.7.13"
  }
 },
 "nbformat": 4,
 "nbformat_minor": 2
}
