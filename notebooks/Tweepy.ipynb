{
 "cells": [
  {
   "cell_type": "code",
   "execution_count": 1,
   "metadata": {
    "collapsed": true
   },
   "outputs": [],
   "source": [
    "import tweepy\n",
    "from textblob import TextBlob\n",
    "import os"
   ]
  },
  {
   "cell_type": "code",
   "execution_count": 2,
   "metadata": {
    "collapsed": true
   },
   "outputs": [],
   "source": [
    "consumer_key=os.environ['TW_CONS_KEY']\n",
    "consumer_secret=os.environ['TW_CONS_SEC']\n",
    "access_token=os.environ['TOKEN']\n",
    "access_token_secret=os.environ['TOKEN_SEC']"
   ]
  },
  {
   "cell_type": "code",
   "execution_count": 3,
   "metadata": {
    "collapsed": true
   },
   "outputs": [],
   "source": [
    "auth = tweepy.OAuthHandler(consumer_key, consumer_secret)\n",
    "auth.set_access_token(access_token, access_token_secret)\n",
    "\n",
    "api = tweepy.API(auth)"
   ]
  },
  {
   "cell_type": "code",
   "execution_count": 5,
   "metadata": {},
   "outputs": [],
   "source": [
    "bbcworld=api.get_user('bbcworld')"
   ]
  },
  {
   "cell_type": "code",
   "execution_count": 7,
   "metadata": {},
   "outputs": [
    {
     "name": "stdout",
     "output_type": "stream",
     "text": [
      "Kenyan opposition MPs boycott Uhuru Kenyatta's speech https://t.co/cWczFRgmMu\n",
      "Sentiment(polarity=0.0, subjectivity=0.0)\n",
      "North Korea threatens US with 'greatest pain' after UN sanctions https://t.co/VMHIbU9Xgs\n",
      "Sentiment(polarity=1.0, subjectivity=1.0)\n",
      "RT @BBCNewsround: The final entries for the Wildlife Photographer of the Year awards are amazing 😍 https://t.co/H4D1o9o31f #WPY53 https://t…\n",
      "Sentiment(polarity=0.30000000000000004, subjectivity=0.95)\n",
      "Lucky escape https://t.co/3QdbAV2eq0\n",
      "Sentiment(polarity=0.3333333333333333, subjectivity=0.8333333333333334)\n",
      "Why is US Senator @tedcruz trending for porn? https://t.co/6e1z8O4P2X\n",
      "Sentiment(polarity=0.0, subjectivity=0.0)\n",
      "Spain Catalonia: Rafael Nadal takes aim at banned referendum https://t.co/OT9b8nWbIu\n",
      "Sentiment(polarity=0.0, subjectivity=0.0)\n",
      "Why is US Senator Ted Cruz trending for porn? https://t.co/6hmKTTtpOu\n",
      "Sentiment(polarity=0.0, subjectivity=0.0)\n",
      "North Italian city of Bolzano bans cricket in parks https://t.co/Z5dhJwzfbw\n",
      "Sentiment(polarity=0.0, subjectivity=0.0)\n",
      "Air Berlin flights hit by 'ill' pilots https://t.co/a4tPCAAUue\n",
      "Sentiment(polarity=-0.5, subjectivity=1.0)\n",
      "Syria war: 'Russian air strikes' kill dozens in Deir al-Zour https://t.co/RpPNoxyzJ8\n",
      "Sentiment(polarity=0.0, subjectivity=0.0)\n",
      "RT @BBCTech: Silicon Valley boss quits over lawsuits https://t.co/ZaVsAnFH0J\n",
      "Sentiment(polarity=0.0, subjectivity=0.0)\n",
      "Italian couple and son die at Solfatara volcano crater https://t.co/wwWw8Mg2bz\n",
      "Sentiment(polarity=0.0, subjectivity=0.0)\n",
      "Angela Merkel is tipped to win a fourth term as German chancellor. \n",
      "\n",
      "Is she now the world's most powerful person?… https://t.co/yVa6yMbc7S\n",
      "Sentiment(polarity=0.32, subjectivity=0.38)\n",
      "RT @bbc5live: \"My life could end instantly\" \n",
      "\n",
      "Hyeonseo Lee escaped North Korea in 1997\n",
      "\n",
      "Now living in South Korea, she still fears for her…\n",
      "Sentiment(polarity=0.0, subjectivity=0.6666666666666666)\n",
      "Australia gambling: Landmark slot-machine case begins https://t.co/Lhks99sCJr\n",
      "Sentiment(polarity=0.0, subjectivity=0.0)\n",
      "Volkswagen plans electric option for all models by 2030 https://t.co/TK6gIBSege\n",
      "Sentiment(polarity=0.0, subjectivity=0.0)\n",
      "South Africa's Motlanthe: 'Good if ANC loses power' https://t.co/qBdTFeIyqi\n",
      "Sentiment(polarity=0.19999999999999998, subjectivity=0.35000000000000003)\n",
      "RT @bbcweather: USA: Remnants of #HurricaneIrma bringing heavy, flooding rain to parts of Georgia, Alabama, Mississippi, Tennessee &amp; North…\n",
      "Sentiment(polarity=-0.2, subjectivity=0.5)\n",
      "RT @BBCSport: South African football chiefs have agreed a 2018 World Cup qualifying tie against Senegal should be replayed.\n",
      "\n",
      "https://t.co/L…\n",
      "Sentiment(polarity=0.0, subjectivity=0.0)\n",
      "Bangladesh PM on Rohingya: Myanmar should take back their citizens https://t.co/AHzmdjszQC\n",
      "Sentiment(polarity=0.0, subjectivity=0.0)\n"
     ]
    }
   ],
   "source": [
    "for tweet in bbcworld.timeline():\n",
    "    tb=TextBlob(tweet.text)\n",
    "    print tweet.text\n",
    "    print tb.sentiment"
   ]
  }
 ],
 "metadata": {
  "kernelspec": {
   "display_name": "Python 2",
   "language": "python",
   "name": "python2"
  },
  "language_info": {
   "codemirror_mode": {
    "name": "ipython",
    "version": 2
   },
   "file_extension": ".py",
   "mimetype": "text/x-python",
   "name": "python",
   "nbconvert_exporter": "python",
   "pygments_lexer": "ipython2",
   "version": "2.7.13"
  }
 },
 "nbformat": 4,
 "nbformat_minor": 2
}
