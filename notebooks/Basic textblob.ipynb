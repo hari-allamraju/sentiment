{
 "cells": [
  {
   "cell_type": "code",
   "execution_count": 1,
   "metadata": {
    "collapsed": true
   },
   "outputs": [],
   "source": [
    "from textblob import TextBlob"
   ]
  },
  {
   "cell_type": "code",
   "execution_count": 2,
   "metadata": {
    "collapsed": true
   },
   "outputs": [],
   "source": [
    "d=TextBlob(\"I am tired\")"
   ]
  },
  {
   "cell_type": "code",
   "execution_count": 3,
   "metadata": {},
   "outputs": [
    {
     "name": "stdout",
     "output_type": "stream",
     "text": [
      "[]\n",
      "en\n",
      "Sentiment(polarity=-0.4, subjectivity=0.7)\n"
     ]
    }
   ],
   "source": [
    "print d.noun_phrases\n",
    "print d.detect_language()\n",
    "print d.sentiment"
   ]
  },
  {
   "cell_type": "code",
   "execution_count": 4,
   "metadata": {
    "collapsed": true
   },
   "outputs": [],
   "source": [
    "story=\"\"\"\n",
    "The story is set in the heartland of Uttar Pradesh who's political landscape is dominated by two politicians Dubey & Jiji. Babu Bihari is a hitman hired by both to get rid of their rivals. He kills for a paltry sum of Rs. 20,000, of which 5000 is the commission to a constable who gets him the hit job. Babu is ferocious & has a very direct approach to hitting his target. He has a reputation of clean hits without any fuss.\n",
    "\n",
    "Babu leads a very simple life, lives alone in a shanty in a remote location. One fine day Jiji offers him a hit job of a local muscleman. Babu goes survey the routine of his target. There he comes across Fulwa a Cobbler. He is smitten by her beauty & impressed with her head strong attitude. He tries to court her, but his advances are rejected by her. Meanwhile, he kills his target, which is witnessed by Fulwa. In the police investigation, she refuses to identify him. Babu barges into her home & she pokes him instinctively with a sharp tool. Babu somehow manages to control the damage & tells her that he came because he was curious why she did not divulge any information to the police. She tells her that the guy he just killed & his 2 brothers raped her repeatedly. She tells him if he kills rest of the 2 brothers she would spend her entire life with him. Babu promptly kills the 2 remaining brothers.\n",
    "\n",
    "When he returns for his payment Jiji is furious on him. He has ruined her plan. It was on the insistence of the younger brother, that she got killed the elder brother to forge an alliance with the remaining 2 brothers for upcoming elections. This puts Babu in bad books of Jiji.\n",
    "\n",
    "Here Babu & Fulwa have a great time & enjoy each other's company. On the other hand, Dubey feels that 3 muscle men (Bahubali) of Jiji are an obstacle to his prospects of winning the election. He gives the contract to kill all 3 Bahubalis to Babu. Babu goes to Jiji & informs her about the contract. He throws an open challenge to her to save her men if she can. He is about to hit his first kill a bullet is already shot missing its target. In ensuing chaos, the victim escapes. It turns out that there is another hitman given the same contract. Babu saves the second hitman from the enraged mob. The second hitman is Bakey, who considers Babu as his guru. Although furious at first that he ruined his kill, Babu makes amends with Bakey. They decide to make this as a game. Of the 3 kills whoever scores higher will win & loser will have to leave the profession.\n",
    "\n",
    "Babu scores the first kill. He is about to score the second hit, but a cop loyal to Jiji intervenes. In the ensuing scuffle, Babu is hit in the shoulder. He takes him in his police jeep & just about to depart, Bakey sneaks in as a postman & scores the kill. The cop is furious takes him to a jungle to investigate. Babu is rescued by Bakey & takes him to his home. Fulwa removes the bullet from his body & heals him back to health. She is impressed by his sauve looks & strong physique. A chemistry seems to boil amongst the two, which Babu also notices. Babu offers them to spend a night together, shocked at first Fulwa berates him & walks away. Bakey reluctantly backtracks saying that he was going along with their dance & booze filled merriment. Babu was actually testing their integrity & tells Bakey that if he tries getting closer to Fulwa he would kill him.\n",
    "\n",
    "After recovering from his injury Babu & Bakey collaborate to kill Triloki the last target & closest aide of Jiji. They create a chaos in the rally & abduct him from there in the guise of constables. After killing him they sit near a railway bridge to celebrate their victory. After moments of drunken banter, Bakey reveals that the contract was for 4 people & shoots Babu point blank. Babu falls off the bridge into a cargo train.\n",
    "\n",
    "Next, we see Babu waking up in a hospital with long hair & beard, apparently from a long coma. He clean-up himself & returns back. His cop friend reveals that after the death of Triloki, Jiji got her entire force to his location, set his house on fire, raped & burnt Fulwa as well. Babu is completely heartbroken & bays for the blood of all the traitors. The first locates Bakey & just as he is about to kill him, Bakey explains that he just executed his contract, principally Babu respect that. He spares his life because Bakey had saved his life in past. Bakey tells him that Dubey revealed his address to Jiji. Thereafter he goes on a killing spree & kills all his nemesis. At the end, the secretary of Dubey (who now owns his empire) gives Babu one more contract. Babu refuses & says that he has left the business. He gives him an address & tells him that he has a strong motive to take this contract.\n",
    "\n",
    "Babu goes to the address & instinctively avoids a poke from sharp tool, unmistakenly from Fulwa. He is surpirsed to see her alive. Then comes Bakey. It is then revealved that Bakey & Fulwa fell in love the moment they met. Fulwa gives Bakey contract to kill Babu. Babu kills Bakey by tricking him into Russian roulette styled game. He kills Fulwa as well for her betrayal.\"\"\""
   ]
  },
  {
   "cell_type": "code",
   "execution_count": 5,
   "metadata": {
    "collapsed": true
   },
   "outputs": [],
   "source": [
    "review=TextBlob(story)"
   ]
  },
  {
   "cell_type": "code",
   "execution_count": 6,
   "metadata": {},
   "outputs": [
    {
     "data": {
      "text/plain": [
       "WordList([u'uttar pradesh', u'political landscape', 'dubey', 'jiji', u'babu bihari', u'paltry sum', 'rs', u'hit job', 'babu', u'direct approach', u'clean hits', 'babu', u'simple life', u'remote location', u'fine day', 'jiji', u'hit job', u'local muscleman', 'babu', 'fulwa', 'cobbler', u'strong attitude', 'fulwa', u'police investigation', 'babu', u'sharp tool', 'babu', u'kills rest', u'entire life', 'babu', 'jiji', 'babu', u'bad books', 'jiji', 'babu', 'fulwa', u'great time', u\"'s company\", 'dubey', u'muscle men', 'bahubali', 'jiji', 'bahubalis', 'babu', 'babu', 'jiji', u'open challenge', u'victim escapes', 'babu', 'bakey', 'babu', 'babu', 'bakey', u'kills whoever scores', 'babu', 'jiji', 'babu', u'police jeep', 'bakey', 'babu', 'bakey', 'fulwa', u'strong physique', u'boil amongst', 'babu', 'babu', 'fulwa', 'bakey', 'babu', 'bakey', 'fulwa', 'babu', 'bakey', 'triloki', 'jiji', u'railway bridge', u'drunken banter', 'bakey', 'babu', u'point blank', 'babu', u'cargo train', 'babu', u'long hair', u'long coma', u'cop friend reveals', 'triloki', 'jiji', u'entire force', 'fulwa', 'babu', 'bakey', 'bakey', 'babu', 'bakey', 'bakey', 'dubey', 'jiji', 'dubey', 'babu', 'babu', u'strong motive', 'babu', u'sharp tool', 'fulwa', 'bakey', 'bakey', 'fulwa', 'fulwa', 'bakey', 'babu', 'babu', 'bakey', 'russian', 'fulwa'])"
      ]
     },
     "execution_count": 6,
     "metadata": {},
     "output_type": "execute_result"
    }
   ],
   "source": [
    "review.noun_phrases"
   ]
  },
  {
   "cell_type": "code",
   "execution_count": 7,
   "metadata": {},
   "outputs": [
    {
     "data": {
      "text/plain": [
       "u'en'"
      ]
     },
     "execution_count": 7,
     "metadata": {},
     "output_type": "execute_result"
    }
   ],
   "source": [
    "review.detect_language()"
   ]
  },
  {
   "cell_type": "code",
   "execution_count": 8,
   "metadata": {},
   "outputs": [
    {
     "data": {
      "text/plain": [
       "Sentiment(polarity=0.09360696517412935, subjectivity=0.3752629708599858)"
      ]
     },
     "execution_count": 8,
     "metadata": {},
     "output_type": "execute_result"
    }
   ],
   "source": [
    "review.sentiment"
   ]
  },
  {
   "cell_type": "code",
   "execution_count": null,
   "metadata": {
    "collapsed": true
   },
   "outputs": [],
   "source": []
  }
 ],
 "metadata": {
  "kernelspec": {
   "display_name": "Python 2",
   "language": "python",
   "name": "python2"
  },
  "language_info": {
   "codemirror_mode": {
    "name": "ipython",
    "version": 2
   },
   "file_extension": ".py",
   "mimetype": "text/x-python",
   "name": "python",
   "nbconvert_exporter": "python",
   "pygments_lexer": "ipython2",
   "version": "2.7.13"
  }
 },
 "nbformat": 4,
 "nbformat_minor": 2
}
